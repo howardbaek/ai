{
 "cells": [
  {
   "cell_type": "markdown",
   "metadata": {},
   "source": [
    "# Asking Questions about External Websites using Google Bard\n",
    "\n",
    "This notebook contains Python code that uses [Google Bard](https://bard.google.com/chat) to inquire about external websites. It imports data from a public [Google Sheet](https://docs.google.com/spreadsheets/d/1_4VN5MQVPO6KK14mH0P8zBz25s7a-he67qS6Fst6ZTo/edit?usp=sharing), extracts a column containing links to genomics tutorials and tools, then requests Google Bard to give brief descriptions of these external links. To do all this in Python, I use an unofficial python package, [bardapi](https://github.com/dsdanielpark/Bard-API), which returns responses from Google Bard through cookies."
   ]
  },
  {
   "cell_type": "markdown",
   "metadata": {},
   "source": [
    "First, we import the [gspread](https://github.com/burnash/gspread) Python package to work with Google Sheets. Then, We set up authentication with Google Sheets and retrieve the Google Sheet."
   ]
  },
  {
   "cell_type": "code",
   "execution_count": 1,
   "metadata": {},
   "outputs": [
    {
     "name": "stderr",
     "output_type": "stream",
     "text": [
      "/Users/howardbaek/Library/Python/3.9/lib/python/site-packages/urllib3/__init__.py:34: NotOpenSSLWarning: urllib3 v2.0 only supports OpenSSL 1.1.1+, currently the 'ssl' module is compiled with 'LibreSSL 2.8.3'. See: https://github.com/urllib3/urllib3/issues/3020\n",
      "  warnings.warn(\n"
     ]
    }
   ],
   "source": [
    "import gspread\n",
    "\n",
    "gc = gspread.oauth()\n",
    "sh = gc.open_by_url(\"https://docs.google.com/spreadsheets/d/1_4VN5MQVPO6KK14mH0P8zBz25s7a-he67qS6Fst6ZTo/edit?usp=sharing\")\n",
    "worksheet = sh.get_worksheet(0)"
   ]
  },
  {
   "cell_type": "markdown",
   "metadata": {},
   "source": [
    "Then, we extract the column containing links to genomics tutorials and links. We print out the first 3 values to check our code."
   ]
  },
  {
   "cell_type": "code",
   "execution_count": 9,
   "metadata": {},
   "outputs": [
    {
     "name": "stdout",
     "output_type": "stream",
     "text": [
      "['https://informatics.fas.harvard.edu/atac-seq-guidelines.html', 'https://informatics.fas.harvard.edu/atac-seq-guidelines.html', 'https://training.galaxyproject.org/training-material/topics/epigenetics/tutorials/atac-seq/slides.html#1']\n"
     ]
    }
   ],
   "source": [
    "tutorials_and_tool_links = worksheet.col_values(10)\n",
    "tutorials_and_tool_links.remove(\"tutorials_and_tool_links\")\n",
    "print(tutorials_and_tool_links[0:3])"
   ]
  },
  {
   "cell_type": "markdown",
   "metadata": {},
   "source": [
    "To interact with the Google Bard API, we import the bardapi package and set up authentication with cookie values. See this [issue](https://github.com/dsdanielpark/Bard-API/issues/155#issuecomment-1681499652) for more information. Currently, this method of using cookies is unstable, and fails after a few attempts. This is not the fault of the Python package; Google is making this API difficult to access."
   ]
  },
  {
   "cell_type": "code",
   "execution_count": 10,
   "metadata": {},
   "outputs": [
    {
     "ename": "Exception",
     "evalue": "SNlM0e value not found in response. Check __Secure-1PSID value.",
     "output_type": "error",
     "traceback": [
      "\u001b[0;31m---------------------------------------------------------------------------\u001b[0m",
      "\u001b[0;31mException\u001b[0m                                 Traceback (most recent call last)",
      "\u001b[1;32m/Users/howardbaek/Documents/ai/description-using-bard.ipynb Cell 7\u001b[0m line \u001b[0;36m1\n\u001b[1;32m      <a href='vscode-notebook-cell:/Users/howardbaek/Documents/ai/description-using-bard.ipynb#W3sZmlsZQ%3D%3D?line=2'>3</a>\u001b[0m description \u001b[39m=\u001b[39m []\n\u001b[1;32m      <a href='vscode-notebook-cell:/Users/howardbaek/Documents/ai/description-using-bard.ipynb#W3sZmlsZQ%3D%3D?line=4'>5</a>\u001b[0m cookie_dict \u001b[39m=\u001b[39m {\n\u001b[1;32m      <a href='vscode-notebook-cell:/Users/howardbaek/Documents/ai/description-using-bard.ipynb#W3sZmlsZQ%3D%3D?line=5'>6</a>\u001b[0m     \u001b[39m\"\u001b[39m\u001b[39m__Secure-1PSID\u001b[39m\u001b[39m\"\u001b[39m: \u001b[39m\"\u001b[39m\u001b[39mYOUR_COOKIE_VALUE\u001b[39m\u001b[39m\"\u001b[39m,\n\u001b[1;32m      <a href='vscode-notebook-cell:/Users/howardbaek/Documents/ai/description-using-bard.ipynb#W3sZmlsZQ%3D%3D?line=6'>7</a>\u001b[0m     \u001b[39m\"\u001b[39m\u001b[39m__Secure-1PSIDTS\u001b[39m\u001b[39m\"\u001b[39m: \u001b[39m\"\u001b[39m\u001b[39mYOUR_COOKIE_VALUE\u001b[39m\u001b[39m\"\u001b[39m,\n\u001b[1;32m      <a href='vscode-notebook-cell:/Users/howardbaek/Documents/ai/description-using-bard.ipynb#W3sZmlsZQ%3D%3D?line=7'>8</a>\u001b[0m     \u001b[39m\"\u001b[39m\u001b[39m__Secure-1PSIDCC\u001b[39m\u001b[39m\"\u001b[39m: \u001b[39m\"\u001b[39m\u001b[39mYOUR_COOKIE_VALUE\u001b[39m\u001b[39m\"\u001b[39m\n\u001b[1;32m      <a href='vscode-notebook-cell:/Users/howardbaek/Documents/ai/description-using-bard.ipynb#W3sZmlsZQ%3D%3D?line=8'>9</a>\u001b[0m }\n\u001b[0;32m---> <a href='vscode-notebook-cell:/Users/howardbaek/Documents/ai/description-using-bard.ipynb#W3sZmlsZQ%3D%3D?line=9'>10</a>\u001b[0m bard \u001b[39m=\u001b[39m BardCookies(cookie_dict \u001b[39m=\u001b[39;49m cookie_dict)\n\u001b[1;32m     <a href='vscode-notebook-cell:/Users/howardbaek/Documents/ai/description-using-bard.ipynb#W3sZmlsZQ%3D%3D?line=11'>12</a>\u001b[0m \u001b[39mfor\u001b[39;00m link \u001b[39min\u001b[39;00m tutorials_and_tool_links:\n\u001b[1;32m     <a href='vscode-notebook-cell:/Users/howardbaek/Documents/ai/description-using-bard.ipynb#W3sZmlsZQ%3D%3D?line=12'>13</a>\u001b[0m     \u001b[39mprint\u001b[39m(\u001b[39m\"\u001b[39m\u001b[39mStart!-----\u001b[39m\u001b[39m\"\u001b[39m)\n",
      "File \u001b[0;32m~/Library/Python/3.9/lib/python/site-packages/bardapi/core_cookies.py:53\u001b[0m, in \u001b[0;36mBardCookies.__init__\u001b[0;34m(self, cookie_dict, timeout, proxies, session, conversation_id, google_translator_api_key, language, run_code, token_from_browser)\u001b[0m\n\u001b[1;32m     51\u001b[0m \u001b[39mself\u001b[39m\u001b[39m.\u001b[39mchoice_id \u001b[39m=\u001b[39m \u001b[39m\"\u001b[39m\u001b[39m\"\u001b[39m\n\u001b[1;32m     52\u001b[0m \u001b[39mself\u001b[39m\u001b[39m.\u001b[39msession \u001b[39m=\u001b[39m \u001b[39mself\u001b[39m\u001b[39m.\u001b[39m_get_session(session)\n\u001b[0;32m---> 53\u001b[0m \u001b[39mself\u001b[39m\u001b[39m.\u001b[39mSNlM0e \u001b[39m=\u001b[39m \u001b[39mself\u001b[39;49m\u001b[39m.\u001b[39;49m_get_snim0e()\n\u001b[1;32m     54\u001b[0m \u001b[39mself\u001b[39m\u001b[39m.\u001b[39mlanguage \u001b[39m=\u001b[39m language \u001b[39mor\u001b[39;00m os\u001b[39m.\u001b[39mgetenv(\u001b[39m\"\u001b[39m\u001b[39m_BARD_API_LANG\u001b[39m\u001b[39m\"\u001b[39m)\n\u001b[1;32m     55\u001b[0m \u001b[39mself\u001b[39m\u001b[39m.\u001b[39mrun_code \u001b[39m=\u001b[39m run_code \u001b[39mor\u001b[39;00m \u001b[39mFalse\u001b[39;00m\n",
      "File \u001b[0;32m~/Library/Python/3.9/lib/python/site-packages/bardapi/core_cookies.py:119\u001b[0m, in \u001b[0;36mBardCookies._get_snim0e\u001b[0;34m(self)\u001b[0m\n\u001b[1;32m    117\u001b[0m snim0e \u001b[39m=\u001b[39m re\u001b[39m.\u001b[39msearch(\u001b[39mr\u001b[39m\u001b[39m\"\u001b[39m\u001b[39mSNlM0e\u001b[39m\u001b[39m\\\"\u001b[39;00m\u001b[39m:\u001b[39m\u001b[39m\\\"\u001b[39;00m\u001b[39m(.*?)\u001b[39m\u001b[39m\\\"\u001b[39;00m\u001b[39m\"\u001b[39m, resp\u001b[39m.\u001b[39mtext)\n\u001b[1;32m    118\u001b[0m \u001b[39mif\u001b[39;00m \u001b[39mnot\u001b[39;00m snim0e:\n\u001b[0;32m--> 119\u001b[0m     \u001b[39mraise\u001b[39;00m \u001b[39mException\u001b[39;00m(\n\u001b[1;32m    120\u001b[0m         \u001b[39m\"\u001b[39m\u001b[39mSNlM0e value not found in response. Check __Secure-1PSID value.\u001b[39m\u001b[39m\"\u001b[39m\n\u001b[1;32m    121\u001b[0m     )\n\u001b[1;32m    122\u001b[0m \u001b[39mreturn\u001b[39;00m snim0e\u001b[39m.\u001b[39mgroup(\u001b[39m1\u001b[39m)\n",
      "\u001b[0;31mException\u001b[0m: SNlM0e value not found in response. Check __Secure-1PSID value."
     ]
    }
   ],
   "source": [
    "from bardapi import BardCookies\n",
    "\n",
    "description = []\n",
    "\n",
    "cookie_dict = {\n",
    "    \"__Secure-1PSID\": \"YOUR_COOKIE_VALUE\",\n",
    "    \"__Secure-1PSIDTS\": \"YOUR_COOKIE_VALUE\",\n",
    "    \"__Secure-1PSIDCC\": \"YOUR_COOKIE_VALUE\"\n",
    "}\n",
    "bard = BardCookies(cookie_dict = cookie_dict)\n",
    "\n",
    "for link in tutorials_and_tool_links:\n",
    "    print(\"Start!-----\")\n",
    "    print(\"Working on link: \", link)\n",
    "    answer = bard.get_answer(f\"Give me a short description of this website: {link}\")['content']\n",
    "    print(\"Description of link: \", answer)\n",
    "    description.append(answer)\n",
    "    print(\"Done!-----\")\n"
   ]
  },
  {
   "cell_type": "markdown",
   "metadata": {},
   "source": [
    "In the future, if this cookie method of authentication works and we are able to get as many responses from the Google Bard API, we can proceed to the following step. The following code fetches a range of cells, updates their content with descriptions from a list, and then applies those changes back to the Google Sheets worksheet."
   ]
  },
  {
   "cell_type": "code",
   "execution_count": null,
   "metadata": {},
   "outputs": [
    {
     "data": {
      "text/plain": [
       "{'spreadsheetId': '1_4VN5MQVPO6KK14mH0P8zBz25s7a-he67qS6Fst6ZTo',\n",
       " 'updatedRange': 'main!K2:K77',\n",
       " 'updatedRows': 76,\n",
       " 'updatedColumns': 1,\n",
       " 'updatedCells': 76}"
      ]
     },
     "execution_count": 12,
     "metadata": {},
     "output_type": "execute_result"
    }
   ],
   "source": [
    "cell_list = worksheet.range(\"K\" + '2:' + \"K\" + str(1 + len(tutorials_and_tool_links)))\n",
    "\n",
    "for i, cell in enumerate(cell_list):\n",
    "    cell.value = description[i]\n",
    "\n",
    "# Update the worksheet with the modified data\n",
    "worksheet.update_cells(cell_list)"
   ]
  }
 ],
 "metadata": {
  "kernelspec": {
   "display_name": "Python 3",
   "language": "python",
   "name": "python3"
  },
  "language_info": {
   "codemirror_mode": {
    "name": "ipython",
    "version": 3
   },
   "file_extension": ".py",
   "mimetype": "text/x-python",
   "name": "python",
   "nbconvert_exporter": "python",
   "pygments_lexer": "ipython3",
   "version": "3.9.6"
  }
 },
 "nbformat": 4,
 "nbformat_minor": 2
}

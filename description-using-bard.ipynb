{
 "cells": [
  {
   "cell_type": "markdown",
   "metadata": {},
   "source": [
    "# Asking Questions about External Websites using Google Bard\n",
    "\n",
    "This notebook contains Python code that uses [Google Bard](https://bard.google.com/chat) to inquire about external websites. It imports data from a public [Google Sheet](https://docs.google.com/spreadsheets/d/1_4VN5MQVPO6KK14mH0P8zBz25s7a-he67qS6Fst6ZTo/edit?usp=sharing), extracts a column containing links to genomics tutorials and tools, then requests Google Bard to give brief descriptions of these external links. To do all this in Python, I use an unofficial python package, [bardapi](https://github.com/dsdanielpark/Bard-API), which returns responses from Google Bard through cookies."
   ]
  },
  {
   "cell_type": "markdown",
   "metadata": {},
   "source": [
    "First, we import the [gspread](https://github.com/burnash/gspread) Python package to work with Google Sheets. Then, We set up authentication with Google Sheets and retrieve the Google Sheet."
   ]
  },
  {
   "cell_type": "code",
   "execution_count": null,
   "metadata": {},
   "outputs": [],
   "source": [
    "import gspread\n",
    "\n",
    "gc = gspread.oauth()\n",
    "sh = gc.open_by_url(\"https://docs.google.com/spreadsheets/d/1_4VN5MQVPO6KK14mH0P8zBz25s7a-he67qS6Fst6ZTo/edit?usp=sharing\")\n",
    "worksheet = sh.get_worksheet(0)"
   ]
  },
  {
   "cell_type": "markdown",
   "metadata": {},
   "source": [
    "Then, we extract the column containing links to genomics tutorials and links. We print out the first 3 values to check our code."
   ]
  },
  {
   "cell_type": "code",
   "execution_count": 9,
   "metadata": {},
   "outputs": [
    {
     "name": "stdout",
     "output_type": "stream",
     "text": [
      "['https://informatics.fas.harvard.edu/atac-seq-guidelines.html', 'https://informatics.fas.harvard.edu/atac-seq-guidelines.html', 'https://training.galaxyproject.org/training-material/topics/epigenetics/tutorials/atac-seq/slides.html#1']\n"
     ]
    }
   ],
   "source": [
    "tutorials_and_tool_links = worksheet.col_values(10)\n",
    "tutorials_and_tool_links.remove(\"tutorials_and_tool_links\")\n",
    "print(tutorials_and_tool_links[0:3])"
   ]
  },
  {
   "cell_type": "markdown",
   "metadata": {},
   "source": [
    "To interact with the Google Bard API, we import the bardapi package and set up authentication with cookie values. See this [issue](https://github.com/dsdanielpark/Bard-API/issues/155#issuecomment-1681499652) for more information. Currently, this method of using cookies is unstable, and fails after a few attempts. This is not the fault of the Python package; Google is making this API difficult to access."
   ]
  },
  {
   "cell_type": "code",
   "execution_count": null,
   "metadata": {},
   "outputs": [],
   "source": [
    "from bardapi import BardCookies\n",
    "\n",
    "description = []\n",
    "\n",
    "cookie_dict = {\n",
    "    \"__Secure-1PSID\": \"YOUR_COOKIE_VALUE\",\n",
    "    \"__Secure-1PSIDTS\": \"YOUR_COOKIE_VALUE\",\n",
    "    \"__Secure-1PSIDCC\": \"YOUR_COOKIE_VALUE\"\n",
    "}\n",
    "bard = BardCookies(cookie_dict = cookie_dict)\n",
    "\n",
    "for link in tutorials_and_tool_links:\n",
    "    print(\"Start!-----\")\n",
    "    print(\"Working on link: \", link)\n",
    "    answer = bard.get_answer(f\"Give me a short description of this website: {link}\")['content']\n",
    "    print(\"Description of link: \", answer)\n",
    "    description.append(answer)\n",
    "    print(\"Done!-----\")\n"
   ]
  },
  {
   "cell_type": "markdown",
   "metadata": {},
   "source": [
    "In the future, if this cookie method of authentication works and we are able to get as many responses from the Google Bard API, we can proceed to the following step. The following code fetches a range of cells, updates their content with descriptions from a list, and then applies those changes back to the Google Sheets worksheet."
   ]
  },
  {
   "cell_type": "code",
   "execution_count": null,
   "metadata": {},
   "outputs": [],
   "source": [
    "cell_list = worksheet.range(\"K\" + '2:' + \"K\" + str(1 + len(tutorials_and_tool_links)))\n",
    "\n",
    "for i, cell in enumerate(cell_list):\n",
    "    cell.value = description[i]\n",
    "\n",
    "# Update the worksheet with the modified data\n",
    "worksheet.update_cells(cell_list)"
   ]
  }
 ],
 "metadata": {
  "kernelspec": {
   "display_name": "Python 3",
   "language": "python",
   "name": "python3"
  },
  "language_info": {
   "codemirror_mode": {
    "name": "ipython",
    "version": 3
   },
   "file_extension": ".py",
   "mimetype": "text/x-python",
   "name": "python",
   "nbconvert_exporter": "python",
   "pygments_lexer": "ipython3",
   "version": "3.9.6"
  }
 },
 "nbformat": 4,
 "nbformat_minor": 2
}
